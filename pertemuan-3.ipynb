{
 "cells": [
  {
   "cell_type": "markdown",
   "metadata": {},
   "source": [
    "## list"
   ]
  },
  {
   "cell_type": "code",
   "execution_count": 17,
   "metadata": {},
   "outputs": [
    {
     "name": "stdout",
     "output_type": "stream",
     "text": [
      "[1, 2, 3, 100]\n",
      "4\n",
      "100\n",
      "['a', 'b']\n",
      "2\n",
      "[1, 2, 3]\n",
      "value: 1\n",
      "value: 2\n",
      "value: 3\n",
      "urutan a\n",
      "urutan b\n"
     ]
    }
   ],
   "source": [
    "mylist = []\n",
    "mylist.append(1)\n",
    "mylist.append(2)\n",
    "mylist.append(3)\n",
    "mylist.append(100)\n",
    "\n",
    "print(mylist)\n",
    "print(len(mylist))\n",
    "print(mylist[3])\n",
    "\n",
    "\n",
    "mylist2 =[]\n",
    "mylist2.append(\"a\")\n",
    "mylist2.append(\"b\")\n",
    "\n",
    "print(mylist2)\n",
    "print(len(mylist2))\n",
    "\n",
    "mylist.remove(100)\n",
    "print(mylist)\n",
    "\n",
    "for x in mylist:\n",
    "    print(\"value: \"+str(x))\n",
    "\n",
    "\n",
    "for y in mylist2:\n",
    "    print(\"urutan \"+str(y))\n"
   ]
  },
  {
   "cell_type": "code",
   "execution_count": 18,
   "metadata": {},
   "outputs": [
    {
     "name": "stdout",
     "output_type": "stream",
     "text": [
      "pelanggan1 :ade\n",
      "umur pelanggan 1 40\n",
      "pelanggan 2:ana\n",
      "umur pelanggan 2:44\n",
      "\n",
      "\n",
      "Pelanggan yang terdaftar \n",
      "\n",
      "\n",
      "pelanggan ade  berumur 40\n",
      "pelanggan ana  berumur 44\n"
     ]
    }
   ],
   "source": [
    "nama1 = input(\"pelanggan1 :\")\n",
    "umur1 = int(input(\"umur pelanggan 1 \"))\n",
    "\n",
    "nama2 = input (\"pelanggan 2:\")\n",
    "umur2 = int(input(\"umur pelanggan 2:\"))\n",
    "\n",
    "print(\"\")\n",
    "print(\"\")\n",
    "print(\"Pelanggan yang terdaftar \")\n",
    "print(\"\")\n",
    "print(\"\")\n",
    "print(\"pelanggan {}  berumur {}\".format(nama1,umur1))\n",
    "print(\"pelanggan {}  berumur {}\".format(nama2,umur2))"
   ]
  },
  {
   "cell_type": "code",
   "execution_count": 19,
   "metadata": {},
   "outputs": [
    {
     "name": "stdout",
     "output_type": "stream",
     "text": [
      "nama :a\n"
     ]
    }
   ],
   "source": [
    "count = int(input(\"Berapa data Pelanggan :\"))\n",
    "\n",
    "nama_pelanggan = []\n",
    "umur_pelanggan = []\n",
    "\n",
    "print(\"\")\n",
    "print(\"Masukkan data Pelanggan\")\n",
    "print(\"\")\n",
    "\n",
    "for i in range(count):\n",
    "    print(\"pelanggan ke {}\".format(i+1))\n",
    "    nama = input(\"Nama \")\n",
    "    umur = int(input(\"Umur :\"))\n",
    "\n",
    "print\n",
    "    "
   ]
  },
  {
   "cell_type": "code",
   "execution_count": null,
   "metadata": {},
   "outputs": [],
   "source": []
  },
  {
   "cell_type": "code",
   "execution_count": null,
   "metadata": {},
   "outputs": [],
   "source": []
  }
 ],
 "metadata": {
  "kernelspec": {
   "display_name": "Python 3",
   "language": "python",
   "name": "python3"
  },
  "language_info": {
   "codemirror_mode": {
    "name": "ipython",
    "version": 3
   },
   "file_extension": ".py",
   "mimetype": "text/x-python",
   "name": "python",
   "nbconvert_exporter": "python",
   "pygments_lexer": "ipython3",
   "version": "3.9.0"
  }
 },
 "nbformat": 4,
 "nbformat_minor": 4
}
