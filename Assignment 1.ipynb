{
 "cells": [
  {
   "cell_type": "code",
   "execution_count": 1,
   "metadata": {},
   "outputs": [
    {
     "name": "stdout",
     "output_type": "stream",
     "text": [
      "Masukkan nama: Ade\n",
      "Masukkan Umur: 34\n",
      "Masukkan Tinggi: 165\n",
      "Nama saya Adeumur saya 34 tahun dan tinggi saya 165.0 cm\n"
     ]
    }
   ],
   "source": [
    "nama = input(\"Masukkan nama: \" )\n",
    "umur = int(input(\"Masukkan Umur: \"))\n",
    "tinggi = float(input(\"Masukkan Tinggi: \"))\n",
    "\n",
    "\n",
    "print(\"Nama saya \" + nama + \"umur saya \" + f'{umur}' + \" tahun dan tinggi saya \" + f'{tinggi}' + \" cm\") \n"
   ]
  },
  {
   "cell_type": "code",
   "execution_count": 2,
   "metadata": {},
   "outputs": [
    {
     "name": "stdout",
     "output_type": "stream",
     "text": [
      "Masukan Nilai Jari-Jari Lingkaran :4\n",
      "Luas Lingkaran dengan jari-jari 4 cm adalah 50.29 cm²\n"
     ]
    }
   ],
   "source": [
    "j = int(input(\"Masukan Nilai Jari-Jari Lingkaran :\"))\n",
    "rumus = round((22/7)*(j*j),2)\n",
    "\n",
    "print(\"Luas Lingkaran dengan jari-jari \" +f'{j}'+ \" cm adalah \" + f'{rumus}' + \" cm\\u00b2\")\n",
    "\n"
   ]
  },
  {
   "cell_type": "code",
   "execution_count": 3,
   "metadata": {},
   "outputs": [
    {
     "name": "stdout",
     "output_type": "stream",
     "text": [
      "Nilai Ujian Teori : 71\n",
      "Nilai Ujian Praktek : 75\n",
      "\n",
      "Selamat Anda Lulus\n"
     ]
    }
   ],
   "source": [
    "t = int(input(\"Nilai Ujian Teori : \"))\n",
    "p = int(input (\"Nilai Ujian Praktek : \"))\n",
    "\n",
    "if t >= 70 and p >= 70:\n",
    "    print(\"\")\n",
    "    print(\"Selamat Anda Lulus\")\n",
    "elif t >= 70 and p < 70:\n",
    "    print(\"\")\n",
    "    print(\"Anda Harus Mengulang Ujian Praktek\")\n",
    "elif t < 70 and p >= 70:\n",
    "    print(\"\")\n",
    "    print(\"Anda Harus Mengulang Ujian Teori\")\n",
    "else:\n",
    "    print(\"\")\n",
    "    print(\"Anda Harus Mengulang Ujian Teori dan Ujian Praktek\")"
   ]
  },
  {
   "cell_type": "code",
   "execution_count": null,
   "metadata": {},
   "outputs": [],
   "source": [
    "no = -1\n",
    "baris = int(input(\"Masukkan Jumlah Baris Segitiga :\"))\n",
    "for x in range(0,baris):\n",
    "    no = no + 2\n",
    "    print(\" \" * (baris - x), \"*\" * no)\n",
    "    print(\"\")"
   ]
  },
  {
   "cell_type": "code",
   "execution_count": null,
   "metadata": {},
   "outputs": [],
   "source": []
  }
 ],
 "metadata": {
  "kernelspec": {
   "display_name": "Python 3",
   "language": "python",
   "name": "python3"
  },
  "language_info": {
   "codemirror_mode": {
    "name": "ipython",
    "version": 3
   },
   "file_extension": ".py",
   "mimetype": "text/x-python",
   "name": "python",
   "nbconvert_exporter": "python",
   "pygments_lexer": "ipython3",
   "version": "3.9.0"
  }
 },
 "nbformat": 4,
 "nbformat_minor": 4
}
